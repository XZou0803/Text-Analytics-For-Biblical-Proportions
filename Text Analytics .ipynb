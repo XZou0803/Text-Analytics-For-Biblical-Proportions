{
 "cells": [
  {
   "cell_type": "markdown",
   "metadata": {},
   "source": [
    "# HW4\n",
    "### Xin Zou"
   ]
  },
  {
   "cell_type": "code",
   "execution_count": 28,
   "metadata": {},
   "outputs": [
    {
     "name": "stdout",
     "output_type": "stream",
     "text": [
      "Populating the interactive namespace from numpy and matplotlib\n",
      "The rpy2.ipython extension is already loaded. To reload it, use:\n",
      "  %reload_ext rpy2.ipython\n"
     ]
    }
   ],
   "source": [
    "%pylab inline\n",
    "import pandas as pd\n",
    "import os\n",
    "from ipypublish import nb_setup\n",
    "%load_ext rpy2.ipython"
   ]
  },
  {
   "cell_type": "code",
   "execution_count": 29,
   "metadata": {},
   "outputs": [],
   "source": [
    "%%R\n",
    "library(tm)\n",
    "library(plyr)\n",
    "library(httr)\n",
    "library(stringr)\n",
    "library(wordcloud)"
   ]
  },
  {
   "cell_type": "code",
   "execution_count": 30,
   "metadata": {},
   "outputs": [],
   "source": [
    "%%R\n",
    "text = readLines(\"ascii_bible.txt\")\n",
    "text = as.array(text)"
   ]
  },
  {
   "cell_type": "markdown",
   "metadata": {},
   "source": [
    "## Q1:Print the top 20 verses"
   ]
  },
  {
   "cell_type": "code",
   "execution_count": 31,
   "metadata": {},
   "outputs": [
    {
     "data": {
      "text/plain": [
       "[1] \"001:001 In the beginning God created the heaven and the earth.\"     \n",
       "[2] \"\"                                                                   \n",
       "[3] \"001:002 And the earth was without form, and void; and darkness was\" \n",
       "[4] \"        upon the face of the deep. And the Spirit of God moved upon\"\n",
       "[5] \"        the face of the waters.\"                                    \n",
       "[6] \"\"                                                                   \n"
      ]
     },
     "metadata": {},
     "output_type": "display_data"
    }
   ],
   "source": [
    "%%R\n",
    "t1 = text[3:length(text)]\n",
    "head(t1)"
   ]
  },
  {
   "cell_type": "code",
   "execution_count": 32,
   "metadata": {},
   "outputs": [],
   "source": [
    "%%R\n",
    "t1 = t1[grep(\"[A-Za-z]\",t1)]\n",
    "t1=sub(\"        \",\"\",t1)"
   ]
  },
  {
   "cell_type": "code",
   "execution_count": 33,
   "metadata": {},
   "outputs": [
    {
     "data": {
      "text/plain": [
       " [1] \"001:001 In the beginning God created the heaven and the earth.\"      \n",
       " [2] \"001:002 And the earth was without form, and void; and darkness was\"  \n",
       " [3] \"upon the face of the deep. And the Spirit of God moved upon\"         \n",
       " [4] \"the face of the waters.\"                                             \n",
       " [5] \"001:003 And God said, Let there be light: and there was light.\"      \n",
       " [6] \"001:004 And God saw the light, that it was good: and God divided the\"\n",
       " [7] \"light from the darkness.\"                                            \n",
       " [8] \"001:005 And God called the light Day, and the darkness he called\"    \n",
       " [9] \"Night. And the evening and the morning were the first day.\"          \n",
       "[10] \"001:006 And God said, Let there be a firmament in the midst of the\"  \n"
      ]
     },
     "metadata": {},
     "output_type": "display_data"
    }
   ],
   "source": [
    "%%R\n",
    "head(t1,10)"
   ]
  },
  {
   "cell_type": "code",
   "execution_count": 34,
   "metadata": {},
   "outputs": [
    {
     "data": {
      "text/plain": [
       " [1] \"001:001 In the beginning God created the heaven and the earth.\"       \n",
       " [2] \"001:002 And the earth was without form, and void; and darkness was\"   \n",
       " [3] \"upon the face of the deep. And the Spirit of God moved upon\"          \n",
       " [4] \"the face of the waters.\"                                              \n",
       " [5] \"001:003 And God said, Let there be light: and there was light.\"       \n",
       " [6] \"001:004 And God saw the light, that it was good: and God divided the\" \n",
       " [7] \"light from the darkness.\"                                             \n",
       " [8] \"001:005 And God called the light Day, and the darkness he called\"     \n",
       " [9] \"Night. And the evening and the morning were the first day.\"           \n",
       "[10] \"001:006 And God said, Let there be a firmament in the midst of the\"   \n",
       "[11] \"waters, and let it divide the waters from the waters.\"                \n",
       "[12] \"001:007 And God made the firmament, and divided the waters which were\"\n",
       "[13] \"under the firmament from the waters which were above the\"             \n",
       "[14] \"firmament: and it was so.\"                                            \n",
       "[15] \"001:008 And God called the firmament Heaven. And the evening and the\" \n",
       "[16] \"morning were the second day.\"                                         \n",
       "[17] \"001:009 And God said, Let the waters under the heaven be gathered\"    \n",
       "[18] \"together unto one place, and let the dry land appear: and it\"         \n",
       "[19] \"was so.\"                                                              \n",
       "[20] \"001:010 And God called the dry land Earth; and the gathering together\"\n"
      ]
     },
     "metadata": {},
     "output_type": "display_data"
    }
   ],
   "source": [
    "%%R\n",
    "t1 = str_replace_all(t1,\"[\\\"]\",\"\")\n",
    "idx = which(nchar(t1)==0)\n",
    "t2 = t1[setdiff(seq(1,length(t1)),idx)]\n",
    "head(t2,20)"
   ]
  },
  {
   "cell_type": "code",
   "execution_count": 35,
   "metadata": {},
   "outputs": [],
   "source": [
    "%%R\n",
    "t3 = strsplit(paste(t1,collapse=\" \"),\"(?<=.)(?=([0:9]..:[0-9]..))\",perl = TRUE)[[1]]"
   ]
  },
  {
   "cell_type": "code",
   "execution_count": 36,
   "metadata": {},
   "outputs": [
    {
     "data": {
      "text/plain": [
       " [1] \"001:001 In the beginning God created the heaven and the earth. \"                                                                                                                          \n",
       " [2] \"001:002 And the earth was without form, and void; and darkness was upon the face of the deep. And the Spirit of God moved upon the face of the waters. \"                                  \n",
       " [3] \"001:003 And God said, Let there be light: and there was light. \"                                                                                                                          \n",
       " [4] \"001:004 And God saw the light, that it was good: and God divided the light from the darkness. \"                                                                                           \n",
       " [5] \"001:005 And God called the light Day, and the darkness he called Night. And the evening and the morning were the first day. \"                                                             \n",
       " [6] \"001:006 And God said, Let there be a firmament in the midst of the waters, and let it divide the waters from the waters. \"                                                                \n",
       " [7] \"001:007 And God made the firmament, and divided the waters which were under the firmament from the waters which were above the firmament: and it was so. \"                                \n",
       " [8] \"001:008 And God called the firmament Heaven. And the evening and the morning were the second day. \"                                                                                       \n",
       " [9] \"001:009 And God said, Let the waters under the heaven be gathered together unto one place, and let the dry land appear: and it was so. \"                                                  \n",
       "[10] \"001:010 And God called the dry land Earth; and the gathering together of the waters called he Seas: and God saw that it was good. \"                                                       \n",
       "[11] \"001:011 And God said, Let the earth bring forth grass, the herb yielding seed, and the fruit tree yielding fruit after his kind, whose seed is in itself, upon the earth: and it was so. \"\n",
       "[12] \"001:012 And the earth brought forth grass, and herb yielding seed after his kind, and the tree yielding fruit, whose seed was in itself, after his kind: and God saw that it was good. \"  \n",
       "[13] \"001:013 And the evening and the morning were the third day. \"                                                                                                                             \n",
       "[14] \"001:014 And God said, Let there be lights in the firmament of the heaven to divide the day from the night; and let them be for signs, and for seasons, and for days, and years: \"         \n",
       "[15] \"001:015 And let them be for lights in the firmament of the heaven to give light upon the earth: and it was so. \"                                                                          \n",
       "[16] \"001:016 And God made two great lights; the greater light to rule the day, and the lesser light to rule the night: he made the stars also. \"                                               \n",
       "[17] \"001:017 And God set them in the firmament of the heaven to give light upon the earth, \"                                                                                                   \n",
       "[18] \"001:018 And to rule over the day and over the night, and to divide the light from the darkness: and God saw that it was good. \"                                                           \n",
       "[19] \"001:019 And the evening and the morning were the fourth day. \"                                                                                                                            \n",
       "[20] \"001:020 And God said, Let the waters bring forth abundantly the moving creature that hath life, and fowl that may fly above the earth in the open firmament of heaven. \"                  \n"
      ]
     },
     "metadata": {},
     "output_type": "display_data"
    }
   ],
   "source": [
    "%%R\n",
    "head(t3,20)"
   ]
  },
  {
   "cell_type": "markdown",
   "metadata": {},
   "source": [
    "## Q2: How many verses are there in total?"
   ]
  },
  {
   "cell_type": "code",
   "execution_count": 37,
   "metadata": {},
   "outputs": [
    {
     "data": {
      "text/plain": [
       "[1] 30210\n"
      ]
     },
     "metadata": {},
     "output_type": "display_data"
    }
   ],
   "source": [
    "%%R\n",
    "print(length(t3))"
   ]
  },
  {
   "cell_type": "markdown",
   "metadata": {},
   "source": [
    "## Q3: How many chapters are there?"
   ]
  },
  {
   "cell_type": "code",
   "execution_count": 38,
   "metadata": {},
   "outputs": [
    {
     "data": {
      "text/plain": [
       "[1] \"022:016 I Jesus have sent mine angel to testify unto you these things in the churches. I am the root and the offspring of David, and the bright and morning star. \"                                                      \n",
       "[2] \"022:017 And the Spirit and the bride say, Come. And let him that heareth say, Come. And let him that is athirst come. And whosoever will, let him take the water of life freely. \"                                       \n",
       "[3] \"022:018 For I testify unto every man that heareth the words of the prophecy of this book, If any man shall add unto these things, God shall add unto him the plagues that are written in this book: \"                    \n",
       "[4] \"022:019 And if any man shall take away from the words of the book of this prophecy, God shall take away his part out of the book of life, and out of the holy city, and from the things which are written in this book. \"\n",
       "[5] \"022:020 He which testifieth these things saith, Surely I come quickly. Amen. Even so, come, Lord Jesus. \"                                                                                                                \n",
       "[6] \"022:021 The grace of our Lord Jesus Christ be with you all. Amen.\"                                                                                                                                                       \n"
      ]
     },
     "metadata": {},
     "output_type": "display_data"
    }
   ],
   "source": [
    "%%R\n",
    "print(t3[30205:30210])"
   ]
  },
  {
   "cell_type": "markdown",
   "metadata": {},
   "source": [
    "After check the last few verses, we can see it has 22 Chapters"
   ]
  },
  {
   "cell_type": "markdown",
   "metadata": {},
   "source": [
    "## Q4: Extract an array for the verse numbers, and also one for the verse text."
   ]
  },
  {
   "cell_type": "code",
   "execution_count": 39,
   "metadata": {},
   "outputs": [],
   "source": [
    "%%R\n",
    "A1 = strsplit(paste(t2,collapse=\" \"),\"[0:9]..:[0-9]..\")[[1]]"
   ]
  },
  {
   "cell_type": "code",
   "execution_count": 40,
   "metadata": {},
   "outputs": [
    {
     "data": {
      "text/plain": [
       " [1] \"\"                                                                                                                                                  \n",
       " [2] \" In the beginning God created the heaven and the earth. \"                                                                                          \n",
       " [3] \" And the earth was without form, and void; and darkness was upon the face of the deep. And the Spirit of God moved upon the face of the waters. \"  \n",
       " [4] \" And God said, Let there be light: and there was light. \"                                                                                          \n",
       " [5] \" And God saw the light, that it was good: and God divided the light from the darkness. \"                                                           \n",
       " [6] \" And God called the light Day, and the darkness he called Night. And the evening and the morning were the first day. \"                             \n",
       " [7] \" And God said, Let there be a firmament in the midst of the waters, and let it divide the waters from the waters. \"                                \n",
       " [8] \" And God made the firmament, and divided the waters which were under the firmament from the waters which were above the firmament: and it was so. \"\n",
       " [9] \" And God called the firmament Heaven. And the evening and the morning were the second day. \"                                                       \n",
       "[10] \" And God said, Let the waters under the heaven be gathered together unto one place, and let the dry land appear: and it was so. \"                  \n"
      ]
     },
     "metadata": {},
     "output_type": "display_data"
    }
   ],
   "source": [
    "%%R\n",
    "print(head(A1,10))"
   ]
  },
  {
   "cell_type": "code",
   "execution_count": 41,
   "metadata": {},
   "outputs": [],
   "source": [
    "%%R\n",
    "A2 = strsplit(paste(t2,collapse=\" \"),\"[A-Za-z]\")[[1]]"
   ]
  },
  {
   "cell_type": "code",
   "execution_count": 42,
   "metadata": {},
   "outputs": [],
   "source": [
    "%%R\n",
    "A2 = A2[grep(\"[0:9]..:[0-9]..\",A2)]"
   ]
  },
  {
   "cell_type": "code",
   "execution_count": 43,
   "metadata": {},
   "outputs": [
    {
     "data": {
      "text/plain": [
       " [1] \"001:001 \"   \". 001:002 \" \". 001:003 \" \". 001:004 \" \". 001:005 \"\n",
       " [6] \". 001:006 \" \". 001:007 \" \". 001:008 \" \". 001:009 \" \". 001:010 \"\n"
      ]
     },
     "metadata": {},
     "output_type": "display_data"
    }
   ],
   "source": [
    "%%R\n",
    "print(head(A2,10))"
   ]
  },
  {
   "cell_type": "markdown",
   "metadata": {},
   "source": [
    "## Q5:Lower case all text"
   ]
  },
  {
   "cell_type": "code",
   "execution_count": 44,
   "metadata": {},
   "outputs": [],
   "source": [
    "%%R\n",
    "A3 = tolower(A1)"
   ]
  },
  {
   "cell_type": "code",
   "execution_count": 45,
   "metadata": {},
   "outputs": [
    {
     "data": {
      "text/plain": [
       " [1] \"\"                                                                                                                                                  \n",
       " [2] \" in the beginning god created the heaven and the earth. \"                                                                                          \n",
       " [3] \" and the earth was without form, and void; and darkness was upon the face of the deep. and the spirit of god moved upon the face of the waters. \"  \n",
       " [4] \" and god said, let there be light: and there was light. \"                                                                                          \n",
       " [5] \" and god saw the light, that it was good: and god divided the light from the darkness. \"                                                           \n",
       " [6] \" and god called the light day, and the darkness he called night. and the evening and the morning were the first day. \"                             \n",
       " [7] \" and god said, let there be a firmament in the midst of the waters, and let it divide the waters from the waters. \"                                \n",
       " [8] \" and god made the firmament, and divided the waters which were under the firmament from the waters which were above the firmament: and it was so. \"\n",
       " [9] \" and god called the firmament heaven. and the evening and the morning were the second day. \"                                                       \n",
       "[10] \" and god said, let the waters under the heaven be gathered together unto one place, and let the dry land appear: and it was so. \"                  \n"
      ]
     },
     "metadata": {},
     "output_type": "display_data"
    }
   ],
   "source": [
    "%%R\n",
    "print(head(A3,10))"
   ]
  },
  {
   "cell_type": "markdown",
   "metadata": {},
   "source": [
    "## Q6:Convert the text of all verses into a Corpus using the tm package."
   ]
  },
  {
   "cell_type": "code",
   "execution_count": 46,
   "metadata": {},
   "outputs": [],
   "source": [
    "%%R\n",
    "corpus = Corpus(VectorSource(A3))"
   ]
  },
  {
   "cell_type": "markdown",
   "metadata": {},
   "source": [
    "## Q7:Remove all punctuation. Use a corpus function for this. How many unique words are there in the bible?"
   ]
  },
  {
   "cell_type": "code",
   "execution_count": 47,
   "metadata": {},
   "outputs": [],
   "source": [
    "%%R\n",
    "A4 = tm_map(corpus,removePunctuation)"
   ]
  },
  {
   "cell_type": "code",
   "execution_count": 48,
   "metadata": {},
   "outputs": [],
   "source": [
    "%%R\n",
    "txt = NULL\n",
    "for (j in 1:length(A4)) {\n",
    "  txt = c(txt,A4[[j]]$content)\n",
    "}\n",
    "txt = paste(txt,collapse=\" \")\n",
    "txt = tolower(txt)"
   ]
  },
  {
   "cell_type": "code",
   "execution_count": 49,
   "metadata": {},
   "outputs": [],
   "source": [
    "%%R\n",
    "tdm = TermDocumentMatrix(A4,control=list(minWordLength=1))"
   ]
  },
  {
   "cell_type": "code",
   "execution_count": 50,
   "metadata": {},
   "outputs": [
    {
     "data": {
      "text/plain": [
       "<<TermDocumentMatrix (terms: 13543, documents: 30211)>>\n",
       "Non-/sparse entries: 502778/408644795\n",
       "Sparsity           : 100%\n",
       "Maximal term length: 18\n",
       "Weighting          : term frequency (tf)\n"
      ]
     },
     "metadata": {},
     "output_type": "display_data"
    }
   ],
   "source": [
    "%%R\n",
    "print(tdm)"
   ]
  },
  {
   "cell_type": "markdown",
   "metadata": {},
   "source": [
    "Tues, we have 13543 unique terms."
   ]
  },
  {
   "cell_type": "markdown",
   "metadata": {},
   "source": [
    "## Q8: Remove all stopwords. Now how many unique terms are there?"
   ]
  },
  {
   "cell_type": "code",
   "execution_count": 51,
   "metadata": {},
   "outputs": [],
   "source": [
    "%%R\n",
    "A5 = tm_map(A4,removeWords,stopwords(\"english\"))"
   ]
  },
  {
   "cell_type": "code",
   "execution_count": 52,
   "metadata": {},
   "outputs": [],
   "source": [
    "%%R\n",
    "tdm1 = TermDocumentMatrix(A5,control=list(minWordLength=1))"
   ]
  },
  {
   "cell_type": "code",
   "execution_count": 53,
   "metadata": {},
   "outputs": [
    {
     "data": {
      "text/plain": [
       "<<TermDocumentMatrix (terms: 13447, documents: 30211)>>\n",
       "Non-/sparse entries: 331854/405915463\n",
       "Sparsity           : 100%\n",
       "Maximal term length: 18\n",
       "Weighting          : term frequency (tf)\n"
      ]
     },
     "metadata": {},
     "output_type": "display_data"
    }
   ],
   "source": [
    "%%R\n",
    "print(tdm1)"
   ]
  },
  {
   "cell_type": "markdown",
   "metadata": {},
   "source": [
    "So, after remove stopwords, we have 13447 unique words."
   ]
  },
  {
   "cell_type": "markdown",
   "metadata": {},
   "source": [
    "## Q9:Now stem the text, to remove multiplicity of similar words of the same root"
   ]
  },
  {
   "cell_type": "code",
   "execution_count": 54,
   "metadata": {},
   "outputs": [],
   "source": [
    "%%R\n",
    "A6 = tm_map(A5, stemDocument)"
   ]
  },
  {
   "cell_type": "markdown",
   "metadata": {},
   "source": [
    "## Q10: How many distinct words are there in the bible, after stemming?"
   ]
  },
  {
   "cell_type": "code",
   "execution_count": 55,
   "metadata": {},
   "outputs": [],
   "source": [
    "%%R\n",
    "tdm2 = TermDocumentMatrix(A6,control=list(minWordLength=1))"
   ]
  },
  {
   "cell_type": "code",
   "execution_count": 56,
   "metadata": {},
   "outputs": [
    {
     "data": {
      "text/plain": [
       "<<TermDocumentMatrix (terms: 10017, documents: 30211)>>\n",
       "Non-/sparse entries: 328406/302295181\n",
       "Sparsity           : 100%\n",
       "Maximal term length: 18\n",
       "Weighting          : term frequency (tf)\n"
      ]
     },
     "metadata": {},
     "output_type": "display_data"
    }
   ],
   "source": [
    "%%R\n",
    "print(tdm2)"
   ]
  },
  {
   "cell_type": "markdown",
   "metadata": {},
   "source": [
    "After temming, we have 10017 words."
   ]
  },
  {
   "cell_type": "markdown",
   "metadata": {},
   "source": [
    "## Q11: Convert the TDM into a matrix and find the 50 most common words in the bible."
   ]
  },
  {
   "cell_type": "code",
   "execution_count": 57,
   "metadata": {},
   "outputs": [],
   "source": [
    "%%R\n",
    "tdm2_m <- as.matrix(tdm2)"
   ]
  },
  {
   "cell_type": "code",
   "execution_count": 58,
   "metadata": {},
   "outputs": [],
   "source": [
    "%%R\n",
    "term_frequency <- rowSums(tdm2_m)"
   ]
  },
  {
   "cell_type": "code",
   "execution_count": 59,
   "metadata": {},
   "outputs": [],
   "source": [
    "%%R\n",
    "term_frequency <- sort(term_frequency, decreasing = T)"
   ]
  },
  {
   "cell_type": "code",
   "execution_count": 60,
   "metadata": {},
   "outputs": [
    {
     "data": {
      "text/plain": [
       "   shall     unto     lord     thou      god      thi     said     will \n",
       "    9838     8997     8007     5474     4727     4600     3999     3893 \n",
       "    thee      son     king     upon      man      day   israel      say \n",
       "    3826     3486     2877     2748     2735     2611     2575     2532 \n",
       "    hath     hous    peopl     came     come      one     hand children \n",
       "    2264     2160     2145     2093     2088     2046     1943     1821 \n",
       "    also     land    thing      men   father    shalt      let     even \n",
       "    1769     1767     1704     1677     1675     1616     1512     1454 \n",
       "    made     went    offer      now   behold     citi    saith     word \n",
       "    1405     1400     1368     1356     1341     1316     1262     1245 \n",
       "therefor    everi     hast     name     make    great    david      may \n",
       "    1237     1236     1150     1135     1086     1081     1064     1027 \n",
       "    pass    earth \n",
       "    1004      992 \n"
      ]
     },
     "metadata": {},
     "output_type": "display_data"
    }
   ],
   "source": [
    "%%R\n",
    "term_frequency[1:50]"
   ]
  },
  {
   "cell_type": "markdown",
   "metadata": {},
   "source": [
    "## Q12: Make a wordcloud of the top 100 words in the bible."
   ]
  },
  {
   "cell_type": "code",
   "execution_count": 61,
   "metadata": {},
   "outputs": [
    {
     "data": {
      "text/plain": [
       "       term  num\n",
       "shall shall 9838\n",
       "unto   unto 8997\n",
       "lord   lord 8007\n",
       "thou   thou 5474\n",
       "god     god 4727\n",
       "thi     thi 4600\n"
      ]
     },
     "metadata": {},
     "output_type": "display_data"
    }
   ],
   "source": [
    "%%R\n",
    "word_freqs <- data.frame(\n",
    "  term = names(term_frequency),\n",
    "  num = term_frequency\n",
    ")\n",
    "\n",
    "head(word_freqs)"
   ]
  },
  {
   "cell_type": "code",
   "execution_count": 62,
   "metadata": {},
   "outputs": [
    {
     "data": {
      "image/png": "[encoded data removed]"
     },
     "metadata": {},
     "output_type": "display_data"
    }
   ],
   "source": [
    "%%R\n",
    "wordcloud(word_freqs$term, word_freqs$num,\n",
    "  max.words = 100, colors = \"red\")"
   ]
  },
  {
   "cell_type": "markdown",
   "metadata": {},
   "source": [
    "## Q13: Mood score the original text of the bible (before stemming)"
   ]
  },
  {
   "cell_type": "code",
   "execution_count": 63,
   "metadata": {},
   "outputs": [
    {
     "data": {
      "text/plain": [
       " [1] \"protector\"        \"eminence\"         \"understand\"       \"her\"             \n",
       " [5] \"impress\"          \"profitable\"       \"lifelong\"         \"gratitude\"       \n",
       " [9] \"benefit\"          \"fairness\"         \"greet\"            \"verification\"    \n",
       "[13] \"mutual\"           \"fine\"             \"allow\"            \"enchantment\"     \n",
       "[17] \"poise\"            \"insight\"          \"definitive\"       \"indispensability\"\n",
       "[21] \"legal\"            \"necessarily\"      \"content\"          \"alertness\"       \n",
       "[25] \"prosperity\"      \n",
       " [1] \"sick\"         \"monstrous\"    \"rattle\"       \"dirty\"        \"incalculable\"\n",
       " [6] \"confiscation\" \"bafflement\"   \"mutter\"       \"disturbance\"  \"abdicate\"    \n",
       "[11] \"box\"          \"threaten\"     \"shoot\"        \"trouble\"      \"impure\"      \n",
       "[16] \"complexity\"   \"wane\"         \"assailant\"    \"indecision\"   \"sullen\"      \n",
       "[21] \"unfriendly\"   \"banal\"        \"disorder\"     \"wreck\"        \"deterrent\"   \n",
       "[1] 1647\n",
       "[1] 2121\n"
      ]
     },
     "metadata": {},
     "output_type": "display_data"
    }
   ],
   "source": [
    "%%R\n",
    "HIDict = readLines(\"inqdict.txt\")\n",
    "dict_pos = HIDict[grep(\"Pos\",HIDict)]\n",
    "poswords = NULL\n",
    "for (s in dict_pos) {\n",
    "    s = strsplit(s,\"#\")[[1]][1]\n",
    "    poswords = c(poswords,strsplit(s,\" \")[[1]][1])\n",
    "}\n",
    "dict_neg = HIDict[grep(\"Neg\",HIDict)]\n",
    "negwords = NULL\n",
    "for (s in dict_neg) {\n",
    "    s = strsplit(s,\"#\")[[1]][1]\n",
    "    negwords = c(negwords,strsplit(s,\" \")[[1]][1])\n",
    "}\n",
    "poswords = tolower(poswords)\n",
    "negwords = tolower(negwords)\n",
    "print(sample(poswords,25))\n",
    "print(sample(negwords,25))\n",
    "poswords = unique(poswords)\n",
    "negwords = unique(negwords)\n",
    "print(length(poswords))\n",
    "print(length(negwords))"
   ]
  },
  {
   "cell_type": "code",
   "execution_count": 64,
   "metadata": {},
   "outputs": [],
   "source": [
    "%%R\n",
    "mood = unlist(strsplit(A3,\" \"))"
   ]
  },
  {
   "cell_type": "code",
   "execution_count": 66,
   "metadata": {},
   "outputs": [
    {
     "data": {
      "text/plain": [
       " [1] \"\"          \"in\"        \"the\"       \"beginning\" \"god\"       \"created\"  \n",
       " [7] \"the\"       \"heaven\"    \"and\"       \"the\"      \n"
      ]
     },
     "metadata": {},
     "output_type": "display_data"
    }
   ],
   "source": [
    "%%R\n",
    "print(head(mood,10))"
   ]
  },
  {
   "cell_type": "code",
   "execution_count": 67,
   "metadata": {},
   "outputs": [
    {
     "data": {
      "text/plain": [
       "[1] 48141 30617\n"
      ]
     },
     "metadata": {},
     "output_type": "display_data"
    }
   ],
   "source": [
    "%%R\n",
    "posmatch = match(mood,poswords)\n",
    "numposmatch = length(posmatch[which(posmatch>0)])\n",
    "negmatch = match(mood,negwords)\n",
    "numnegmatch = length(negmatch[which(negmatch>0)])\n",
    "print(c(numposmatch,numnegmatch))"
   ]
  },
  {
   "cell_type": "markdown",
   "metadata": {},
   "source": [
    "We can see that positive words are more than negative words, so bible has a positive mood."
   ]
  },
  {
   "cell_type": "markdown",
   "metadata": {},
   "source": [
    "## Q14: Summarize the bible into less than 500 verses."
   ]
  },
  {
   "cell_type": "code",
   "execution_count": null,
   "metadata": {},
   "outputs": [],
   "source": [
    "%%R\n",
    "text_summary = function(text, n) {\n",
    "  m = length(text)  \n",
    "  jaccard = matrix(0,m,m)  \n",
    "  for (i in 1:m) {\n",
    "    for (j in i:m) {\n",
    "      a = text[i]; aa = unlist(strsplit(a,\" \"))\n",
    "      b = text[j]; bb = unlist(strsplit(b,\" \"))\n",
    "      jaccard[i,j] = length(intersect(aa,bb))/\n",
    "                          length(union(aa,bb))\n",
    "      jaccard[j,i] = jaccard[i,j]\n",
    "    }\n",
    "  }\n",
    "  similarity_score = rowSums(jaccard)\n",
    "  res = sort(similarity_score, index.return=TRUE,\n",
    "          decreasing=TRUE)\n",
    "  idx = res$ix[1:n]\n",
    "  summary = text[idx]\n",
    "}"
   ]
  },
  {
   "cell_type": "code",
   "execution_count": null,
   "metadata": {},
   "outputs": [],
   "source": [
    "%%R\n",
    "res = text_summary(A1,5)\n",
    "print(res)"
   ]
  },
  {
   "cell_type": "markdown",
   "metadata": {},
   "source": [
    "## Q15: Find the main 3 topics in the bible, and the top 25 words in each topic. Can you find an interpretation of each topic?"
   ]
  },
  {
   "cell_type": "markdown",
   "metadata": {},
   "source": [
    "%%R\n",
    "library(topicmodels)"
   ]
  },
  {
   "cell_type": "code",
   "execution_count": 68,
   "metadata": {},
   "outputs": [],
   "source": [
    "%%R\n",
    "dtm <- DocumentTermMatrix(A4)"
   ]
  },
  {
   "cell_type": "code",
   "execution_count": 74,
   "metadata": {},
   "outputs": [
    {
     "data": {
      "text/plain": [
       "[1] 30211 13543\n"
      ]
     },
     "metadata": {},
     "output_type": "display_data"
    }
   ],
   "source": [
    "%%R\n",
    "dim(dtm)"
   ]
  },
  {
   "cell_type": "code",
   "execution_count": 76,
   "metadata": {},
   "outputs": [],
   "source": [
    "%%R\n",
    "raw.sum=apply(dtm,1,FUN=sum) "
   ]
  },
  {
   "cell_type": "code",
   "execution_count": 77,
   "metadata": {},
   "outputs": [],
   "source": [
    "%%R\n",
    "dtm=dtm[raw.sum!=0,]   #remove NA rows"
   ]
  },
  {
   "cell_type": "code",
   "execution_count": 69,
   "metadata": {},
   "outputs": [],
   "source": [
    "%%R\n",
    "k = 3\n",
    "burnin = 5000\n",
    "iter = 4000\n",
    "thin = 100\n",
    "seed = 1234\n",
    "nstart = 5\n",
    "best = TRUE"
   ]
  },
  {
   "cell_type": "code",
   "execution_count": null,
   "metadata": {},
   "outputs": [],
   "source": [
    "%%R\n",
    "#Run LDA\n",
    "res1 <-LDA(dtm, k , method=\"Gibbs\", control = list(nstart = nstart, seed = seed, best = best, burnin = burnin, iter = iter, thin = thin))\n",
    "\n",
    "#Show topics\n",
    "res.topics = as.matrix(topics(res))\n",
    "print(head(res.topics),3)\n",
    "\n",
    "#Show top terms\n",
    "res.terms = as.matrix(terms(res,25))\n",
    "print(res.terms)\n"
   ]
  },
  {
   "cell_type": "markdown",
   "metadata": {},
   "source": [
    "THE END"
   ]
  }
 ],
 "metadata": {
  "kernelspec": {
   "display_name": "Python 3",
   "language": "python",
   "name": "python3"
  },
  "language_info": {
   "codemirror_mode": {
    "name": "ipython",
    "version": 3
   },
   "file_extension": ".py",
   "mimetype": "text/x-python",
   "name": "python",
   "nbconvert_exporter": "python",
   "pygments_lexer": "ipython3",
   "version": "3.7.2"
  }
 },
 "nbformat": 4,
 "nbformat_minor": 2
}
